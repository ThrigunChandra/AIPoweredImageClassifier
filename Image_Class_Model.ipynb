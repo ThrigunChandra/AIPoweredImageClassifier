{
 "cells": [
  {
   "cell_type": "code",
   "execution_count": 21,
   "id": "421a8ffe-815a-44e4-bb82-122176e8d42e",
   "metadata": {},
   "outputs": [],
   "source": [
    "import numpy as np # --> Arrays Complex calculations\n",
    "import pandas as pd # --> Pandas Data ni retrieve cheyadaniki paniki osthadhi\n",
    "import matplotlib.pyplot as plt # --> Graphical representation \n",
    "import tensorflow as tf # --> used to build model\n",
    "\n",
    "from tensorflow import keras \n",
    "from tensorflow.keras import layers # --> Algorithms"
   ]
  },
  {
   "cell_type": "code",
   "execution_count": 22,
   "id": "1a43102c-5840-48dc-895d-c5b3463fb259",
   "metadata": {},
   "outputs": [],
   "source": [
    "data_train_path = 'Classes/train'\n",
    "data_test_path = 'Classes/test'\n",
    "data_val_path = 'Classes/validation'"
   ]
  },
  {
   "cell_type": "code",
   "execution_count": 23,
   "id": "1ac427ee-53a9-43d3-a804-a192c57905a8",
   "metadata": {},
   "outputs": [],
   "source": [
    "img_width = 180\n",
    "img_height = 180"
   ]
  },
  {
   "cell_type": "code",
   "execution_count": 24,
   "id": "1b9dea86-a841-4ef3-88aa-d5fa10ac63d3",
   "metadata": {},
   "outputs": [
    {
     "name": "stdout",
     "output_type": "stream",
     "text": [
      "Found 10147 files belonging to 6 classes.\n"
     ]
    }
   ],
   "source": [
    "#converts images to numpy arrays form\n",
    "\n",
    "data_train = tf.keras.utils.image_dataset_from_directory(\n",
    "    data_train_path,\n",
    "    shuffle=True,\n",
    "    image_size=(img_width, img_height),\n",
    "    batch_size=32,\n",
    "    validation_split=False\n",
    ")"
   ]
  },
  {
   "cell_type": "code",
   "execution_count": 52,
   "id": "4ac0ef5c-7cc7-4d38-94e9-2e659e3dc44c",
   "metadata": {},
   "outputs": [],
   "source": [
    "data_cat = data_train.class_names"
   ]
  },
  {
   "cell_type": "code",
   "execution_count": 53,
   "id": "875c95b0-13d5-4cee-80c9-1e4d3d1b4a84",
   "metadata": {},
   "outputs": [
    {
     "data": {
      "text/plain": [
       "['Audi', 'Mahindra Scorpio', 'Rolls Royce', 'Toyota Innova', 'cats', 'dogs']"
      ]
     },
     "execution_count": 53,
     "metadata": {},
     "output_type": "execute_result"
    }
   ],
   "source": [
    "data_cat"
   ]
  },
  {
   "cell_type": "code",
   "execution_count": 26,
   "id": "3104b248-a132-4e53-a6ff-83a79b657644",
   "metadata": {},
   "outputs": [
    {
     "name": "stdout",
     "output_type": "stream",
     "text": [
      "Found 3000 files belonging to 6 classes.\n"
     ]
    }
   ],
   "source": [
    "data_val = tf.keras.utils.image_dataset_from_directory(\n",
    "    data_val_path,\n",
    "    shuffle=False,\n",
    "    image_size=(img_width, img_height),\n",
    "    batch_size=32,\n",
    "    validation_split=False\n",
    ")"
   ]
  },
  {
   "cell_type": "code",
   "execution_count": 27,
   "id": "649b170c-ea81-41b1-b2fb-5ee6c9e3111b",
   "metadata": {},
   "outputs": [
    {
     "name": "stdout",
     "output_type": "stream",
     "text": [
      "Found 3000 files belonging to 6 classes.\n"
     ]
    }
   ],
   "source": [
    "data_test = tf.keras.utils.image_dataset_from_directory(\n",
    "    data_test_path,\n",
    "    shuffle=False,\n",
    "    image_size=(img_width, img_height),\n",
    "    batch_size=32,\n",
    "    validation_split=False\n",
    ")"
   ]
  },
  {
   "cell_type": "code",
   "execution_count": 28,
   "id": "a64c6de0-2154-447d-bc96-a748f1267996",
   "metadata": {},
   "outputs": [],
   "source": [
    "from tensorflow.keras.models import Sequential"
   ]
  },
  {
   "cell_type": "code",
   "execution_count": 29,
   "id": "65748168-5fba-49e3-ae96-7f4b5f323166",
   "metadata": {},
   "outputs": [],
   "source": [
    "# CNN NETWORK\n",
    "\n",
    "model = Sequential([ # 0-255 --> 0-1\n",
    "    layers.Rescaling(1./255), #\n",
    "    # Layer 1\n",
    "    layers.Conv2D(16, 3, padding='same', activation='relu'),\n",
    "    layers.MaxPooling2D(),\n",
    "    # Layer 2\n",
    "    layers.Conv2D(32, 3, padding='same', activation='relu'),\n",
    "    layers.MaxPooling2D(),\n",
    "    # Layer 3\n",
    "    layers.Conv2D(64, 3, padding='same', activation='relu'),\n",
    "    layers.MaxPooling2D(),\n",
    "    #Flattening \n",
    "    layers.Flatten(),\n",
    "    layers.Dropout(0.2),\n",
    "    layers.Dense(128),\n",
    "    layers.Dense(len(data_cat))\n",
    "])"
   ]
  },
  {
   "cell_type": "code",
   "execution_count": 30,
   "id": "ea96268a-b948-429c-b797-cfbf8a7144b4",
   "metadata": {},
   "outputs": [],
   "source": [
    "model.compile(optimizer='adam', loss=tf.keras.losses.SparseCategoricalCrossentropy(from_logits=True), metrics=['accuracy'])"
   ]
  },
  {
   "cell_type": "code",
   "execution_count": 32,
   "id": "bdcbe0ea-e2d3-4e32-87bb-ef0c1d523041",
   "metadata": {},
   "outputs": [
    {
     "name": "stdout",
     "output_type": "stream",
     "text": [
      "Epoch 1/20\n",
      "\u001b[1m318/318\u001b[0m \u001b[32m━━━━━━━━━━━━━━━━━━━━\u001b[0m\u001b[37m\u001b[0m \u001b[1m109s\u001b[0m 341ms/step - accuracy: 0.9380 - loss: 0.1577 - val_accuracy: 0.7307 - val_loss: 1.1164\n",
      "Epoch 2/20\n",
      "\u001b[1m318/318\u001b[0m \u001b[32m━━━━━━━━━━━━━━━━━━━━\u001b[0m\u001b[37m\u001b[0m \u001b[1m108s\u001b[0m 340ms/step - accuracy: 0.9454 - loss: 0.1315 - val_accuracy: 0.7323 - val_loss: 1.1877\n",
      "Epoch 3/20\n",
      "\u001b[1m318/318\u001b[0m \u001b[32m━━━━━━━━━━━━━━━━━━━━\u001b[0m\u001b[37m\u001b[0m \u001b[1m109s\u001b[0m 341ms/step - accuracy: 0.9483 - loss: 0.1297 - val_accuracy: 0.7223 - val_loss: 1.2787\n",
      "Epoch 4/20\n",
      "\u001b[1m318/318\u001b[0m \u001b[32m━━━━━━━━━━━━━━━━━━━━\u001b[0m\u001b[37m\u001b[0m \u001b[1m111s\u001b[0m 349ms/step - accuracy: 0.9501 - loss: 0.1317 - val_accuracy: 0.7390 - val_loss: 1.2159\n",
      "Epoch 5/20\n",
      "\u001b[1m318/318\u001b[0m \u001b[32m━━━━━━━━━━━━━━━━━━━━\u001b[0m\u001b[37m\u001b[0m \u001b[1m109s\u001b[0m 343ms/step - accuracy: 0.9606 - loss: 0.1059 - val_accuracy: 0.7173 - val_loss: 1.6007\n",
      "Epoch 6/20\n",
      "\u001b[1m318/318\u001b[0m \u001b[32m━━━━━━━━━━━━━━━━━━━━\u001b[0m\u001b[37m\u001b[0m \u001b[1m110s\u001b[0m 345ms/step - accuracy: 0.9601 - loss: 0.1059 - val_accuracy: 0.7283 - val_loss: 1.3420\n",
      "Epoch 7/20\n",
      "\u001b[1m318/318\u001b[0m \u001b[32m━━━━━━━━━━━━━━━━━━━━\u001b[0m\u001b[37m\u001b[0m \u001b[1m115s\u001b[0m 362ms/step - accuracy: 0.9641 - loss: 0.1064 - val_accuracy: 0.7447 - val_loss: 1.2673\n",
      "Epoch 8/20\n",
      "\u001b[1m318/318\u001b[0m \u001b[32m━━━━━━━━━━━━━━━━━━━━\u001b[0m\u001b[37m\u001b[0m \u001b[1m109s\u001b[0m 342ms/step - accuracy: 0.9644 - loss: 0.1019 - val_accuracy: 0.7503 - val_loss: 1.5442\n",
      "Epoch 9/20\n",
      "\u001b[1m318/318\u001b[0m \u001b[32m━━━━━━━━━━━━━━━━━━━━\u001b[0m\u001b[37m\u001b[0m \u001b[1m110s\u001b[0m 346ms/step - accuracy: 0.9683 - loss: 0.0902 - val_accuracy: 0.7313 - val_loss: 1.4421\n",
      "Epoch 10/20\n",
      "\u001b[1m318/318\u001b[0m \u001b[32m━━━━━━━━━━━━━━━━━━━━\u001b[0m\u001b[37m\u001b[0m \u001b[1m112s\u001b[0m 352ms/step - accuracy: 0.9491 - loss: 0.1590 - val_accuracy: 0.7483 - val_loss: 1.3967\n",
      "Epoch 11/20\n",
      "\u001b[1m318/318\u001b[0m \u001b[32m━━━━━━━━━━━━━━━━━━━━\u001b[0m\u001b[37m\u001b[0m \u001b[1m109s\u001b[0m 343ms/step - accuracy: 0.9752 - loss: 0.0673 - val_accuracy: 0.7197 - val_loss: 1.7758\n",
      "Epoch 12/20\n",
      "\u001b[1m318/318\u001b[0m \u001b[32m━━━━━━━━━━━━━━━━━━━━\u001b[0m\u001b[37m\u001b[0m \u001b[1m85s\u001b[0m 267ms/step - accuracy: 0.9627 - loss: 0.1108 - val_accuracy: 0.7363 - val_loss: 1.4948\n",
      "Epoch 13/20\n",
      "\u001b[1m318/318\u001b[0m \u001b[32m━━━━━━━━━━━━━━━━━━━━\u001b[0m\u001b[37m\u001b[0m \u001b[1m54s\u001b[0m 171ms/step - accuracy: 0.9692 - loss: 0.0871 - val_accuracy: 0.7563 - val_loss: 1.4537\n",
      "Epoch 14/20\n",
      "\u001b[1m318/318\u001b[0m \u001b[32m━━━━━━━━━━━━━━━━━━━━\u001b[0m\u001b[37m\u001b[0m \u001b[1m55s\u001b[0m 172ms/step - accuracy: 0.9675 - loss: 0.0945 - val_accuracy: 0.7377 - val_loss: 1.6237\n",
      "Epoch 15/20\n",
      "\u001b[1m318/318\u001b[0m \u001b[32m━━━━━━━━━━━━━━━━━━━━\u001b[0m\u001b[37m\u001b[0m \u001b[1m54s\u001b[0m 170ms/step - accuracy: 0.9777 - loss: 0.0638 - val_accuracy: 0.7477 - val_loss: 1.6336\n",
      "Epoch 16/20\n",
      "\u001b[1m318/318\u001b[0m \u001b[32m━━━━━━━━━━━━━━━━━━━━\u001b[0m\u001b[37m\u001b[0m \u001b[1m58s\u001b[0m 183ms/step - accuracy: 0.9758 - loss: 0.0672 - val_accuracy: 0.7347 - val_loss: 1.6379\n",
      "Epoch 17/20\n",
      "\u001b[1m318/318\u001b[0m \u001b[32m━━━━━━━━━━━━━━━━━━━━\u001b[0m\u001b[37m\u001b[0m \u001b[1m63s\u001b[0m 198ms/step - accuracy: 0.9854 - loss: 0.0446 - val_accuracy: 0.7510 - val_loss: 1.6202\n",
      "Epoch 18/20\n",
      "\u001b[1m318/318\u001b[0m \u001b[32m━━━━━━━━━━━━━━━━━━━━\u001b[0m\u001b[37m\u001b[0m \u001b[1m55s\u001b[0m 172ms/step - accuracy: 0.9789 - loss: 0.0606 - val_accuracy: 0.7497 - val_loss: 1.7525\n",
      "Epoch 19/20\n",
      "\u001b[1m318/318\u001b[0m \u001b[32m━━━━━━━━━━━━━━━━━━━━\u001b[0m\u001b[37m\u001b[0m \u001b[1m54s\u001b[0m 170ms/step - accuracy: 0.9853 - loss: 0.0463 - val_accuracy: 0.7290 - val_loss: 1.8254\n",
      "Epoch 20/20\n",
      "\u001b[1m318/318\u001b[0m \u001b[32m━━━━━━━━━━━━━━━━━━━━\u001b[0m\u001b[37m\u001b[0m \u001b[1m54s\u001b[0m 169ms/step - accuracy: 0.9774 - loss: 0.0659 - val_accuracy: 0.7310 - val_loss: 1.7187\n"
     ]
    }
   ],
   "source": [
    "epochs_size = 20\n",
    "history = model.fit(data_train, validation_data=data_val, epochs=epochs_size)"
   ]
  },
  {
   "cell_type": "code",
   "execution_count": 34,
   "id": "ccb84246-645a-428e-8897-dea9c4fe17e6",
   "metadata": {},
   "outputs": [
    {
     "data": {
      "text/plain": [
       "Text(0.5, 1.0, 'Loss')"
      ]
     },
     "execution_count": 34,
     "metadata": {},
     "output_type": "execute_result"
    },
    {
     "data": {
      "image/png": "[encoded data removed]",
      "text/plain": [
       "<Figure size 800x800 with 2 Axes>"
      ]
     },
     "metadata": {},
     "output_type": "display_data"
    }
   ],
   "source": [
    "epochs_range = range(epochs_size)\n",
    "plt.figure(figsize=(8,8))\n",
    "plt.subplot(1, 2, 1)\n",
    "plt.plot(epochs_range, history.history['accuracy'], label='Training Accuracy')\n",
    "plt.plot(epochs_range, hist\n",
    "ory.history['val_accuracy'], label='Validation Accuracy')\n",
    "plt.title('Accuracy')\n",
    "\n",
    "plt.subplot(1, 2, 2)\n",
    "plt.plot(epochs_range, history.history['loss'], label='Training Loss')\n",
    "plt.plot(epochs_range, history.history['val_loss'], label='Validation Loss')\n",
    "plt.title('Loss')\n"
   ]
  },
  {
   "cell_type": "code",
   "execution_count": 46,
   "id": "867a9902-a8de-41dc-a8d9-4509dd608995",
   "metadata": {},
   "outputs": [],
   "source": [
    "image = 'd1.jpg'\n",
    "image = tf.keras.utils.load_img(image, target_size=(img_height, img_width))\n",
    "img_arr = tf.keras.utils.array_to_img(image)\n",
    "img_bat = tf.expand_dims(img_arr, 0)"
   ]
  },
  {
   "cell_type": "code",
   "execution_count": 47,
   "id": "94d9f0b7-76e2-4142-be9d-94af52b0fba3",
   "metadata": {},
   "outputs": [
    {
     "name": "stdout",
     "output_type": "stream",
     "text": [
      "\u001b[1m1/1\u001b[0m \u001b[32m━━━━━━━━━━━━━━━━━━━━\u001b[0m\u001b[37m\u001b[0m \u001b[1m0s\u001b[0m 69ms/step\n"
     ]
    }
   ],
   "source": [
    "predict = model.predict(img_bat)"
   ]
  },
  {
   "cell_type": "code",
   "execution_count": 48,
   "id": "9f8d16c7-2b34-4d34-9e7e-3a9329084f06",
   "metadata": {},
   "outputs": [],
   "source": [
    "score = tf.nn.softmax(predict)"
   ]
  },
  {
   "cell_type": "code",
   "execution_count": 49,
   "id": "295c019a-8b43-4331-aa27-1eba4606b188",
   "metadata": {},
   "outputs": [
    {
     "name": "stdout",
     "output_type": "stream",
     "text": [
      "Image is dogs with accuracy of 100.00\n"
     ]
    }
   ],
   "source": [
    "print(\"Image is {} with accuracy of {:0.2f}\".format(data_cat[np.argmax(score)], np.max(score)*100))"
   ]
  },
  {
   "cell_type": "code",
   "execution_count": 50,
   "id": "c4478762-948e-48a4-814a-50d3cad17d0f",
   "metadata": {},
   "outputs": [],
   "source": [
    "model.save('Image_Classify.keras')"
   ]
  },
  {
   "cell_type": "code",
   "execution_count": null,
   "id": "20c4653c-3ebb-4728-b266-cd52a9c74566",
   "metadata": {},
   "outputs": [],
   "source": []
  }
 ],
 "metadata": {
  "kernelspec": {
   "display_name": "Python 3 (ipykernel)",
   "language": "python",
   "name": "python3"
  },
  "language_info": {
   "codemirror_mode": {
    "name": "ipython",
    "version": 3
   },
   "file_extension": ".py",
   "mimetype": "text/x-python",
   "name": "python",
   "nbconvert_exporter": "python",
   "pygments_lexer": "ipython3",
   "version": "3.12.1"
  }
 },
 "nbformat": 4,
 "nbformat_minor": 5
}
